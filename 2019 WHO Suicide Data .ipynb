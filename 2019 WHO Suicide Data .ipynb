{
 "cells": [
  {
   "cell_type": "code",
   "execution_count": 1,
   "id": "02b10ae5",
   "metadata": {},
   "outputs": [],
   "source": [
    "# Import packages\n",
    "import pandas as pd\n",
    "import numpy as np\n",
    "import matplotlib.pyplot as plt\n",
    "import seaborn as sns"
   ]
  },
  {
   "cell_type": "code",
   "execution_count": 2,
   "id": "f23a4f3f",
   "metadata": {},
   "outputs": [
    {
     "data": {
      "text/html": [
       "<div>\n",
       "<style scoped>\n",
       "    .dataframe tbody tr th:only-of-type {\n",
       "        vertical-align: middle;\n",
       "    }\n",
       "\n",
       "    .dataframe tbody tr th {\n",
       "        vertical-align: top;\n",
       "    }\n",
       "\n",
       "    .dataframe thead th {\n",
       "        text-align: right;\n",
       "    }\n",
       "</style>\n",
       "<table border=\"1\" class=\"dataframe\">\n",
       "  <thead>\n",
       "    <tr style=\"text-align: right;\">\n",
       "      <th></th>\n",
       "      <th>IndicatorCode</th>\n",
       "      <th>Indicator</th>\n",
       "      <th>ValueType</th>\n",
       "      <th>ParentLocationCode</th>\n",
       "      <th>ParentLocation</th>\n",
       "      <th>Location type</th>\n",
       "      <th>SpatialDimValueCode</th>\n",
       "      <th>Location</th>\n",
       "      <th>Period type</th>\n",
       "      <th>Period</th>\n",
       "      <th>...</th>\n",
       "      <th>FactValueUoM</th>\n",
       "      <th>FactValueNumericLowPrefix</th>\n",
       "      <th>FactValueNumericLow</th>\n",
       "      <th>FactValueNumericHighPrefix</th>\n",
       "      <th>FactValueNumericHigh</th>\n",
       "      <th>Value</th>\n",
       "      <th>FactValueTranslationID</th>\n",
       "      <th>FactComments</th>\n",
       "      <th>Language</th>\n",
       "      <th>DateModified</th>\n",
       "    </tr>\n",
       "  </thead>\n",
       "  <tbody>\n",
       "    <tr>\n",
       "      <th>0</th>\n",
       "      <td>SDGSUICIDE</td>\n",
       "      <td>Crude suicide rates (per 100 000 population)</td>\n",
       "      <td>text</td>\n",
       "      <td>AMR</td>\n",
       "      <td>Americas</td>\n",
       "      <td>Country</td>\n",
       "      <td>ATG</td>\n",
       "      <td>Antigua and Barbuda</td>\n",
       "      <td>Year</td>\n",
       "      <td>2019</td>\n",
       "      <td>...</td>\n",
       "      <td>NaN</td>\n",
       "      <td>NaN</td>\n",
       "      <td>NaN</td>\n",
       "      <td>NaN</td>\n",
       "      <td>NaN</td>\n",
       "      <td>0.0</td>\n",
       "      <td>NaN</td>\n",
       "      <td>NaN</td>\n",
       "      <td>EN</td>\n",
       "      <td>2021-07-06T04:00:00.000Z</td>\n",
       "    </tr>\n",
       "    <tr>\n",
       "      <th>1</th>\n",
       "      <td>SDGSUICIDE</td>\n",
       "      <td>Crude suicide rates (per 100 000 population)</td>\n",
       "      <td>text</td>\n",
       "      <td>AMR</td>\n",
       "      <td>Americas</td>\n",
       "      <td>Country</td>\n",
       "      <td>ATG</td>\n",
       "      <td>Antigua and Barbuda</td>\n",
       "      <td>Year</td>\n",
       "      <td>2019</td>\n",
       "      <td>...</td>\n",
       "      <td>NaN</td>\n",
       "      <td>NaN</td>\n",
       "      <td>NaN</td>\n",
       "      <td>NaN</td>\n",
       "      <td>NaN</td>\n",
       "      <td>0.0</td>\n",
       "      <td>NaN</td>\n",
       "      <td>NaN</td>\n",
       "      <td>EN</td>\n",
       "      <td>2021-07-06T04:00:00.000Z</td>\n",
       "    </tr>\n",
       "    <tr>\n",
       "      <th>2</th>\n",
       "      <td>SDGSUICIDE</td>\n",
       "      <td>Crude suicide rates (per 100 000 population)</td>\n",
       "      <td>text</td>\n",
       "      <td>AMR</td>\n",
       "      <td>Americas</td>\n",
       "      <td>Country</td>\n",
       "      <td>ATG</td>\n",
       "      <td>Antigua and Barbuda</td>\n",
       "      <td>Year</td>\n",
       "      <td>2019</td>\n",
       "      <td>...</td>\n",
       "      <td>NaN</td>\n",
       "      <td>NaN</td>\n",
       "      <td>NaN</td>\n",
       "      <td>NaN</td>\n",
       "      <td>NaN</td>\n",
       "      <td>0.0</td>\n",
       "      <td>NaN</td>\n",
       "      <td>NaN</td>\n",
       "      <td>EN</td>\n",
       "      <td>2021-07-06T04:00:00.000Z</td>\n",
       "    </tr>\n",
       "    <tr>\n",
       "      <th>3</th>\n",
       "      <td>SDGSUICIDE</td>\n",
       "      <td>Crude suicide rates (per 100 000 population)</td>\n",
       "      <td>text</td>\n",
       "      <td>AMR</td>\n",
       "      <td>Americas</td>\n",
       "      <td>Country</td>\n",
       "      <td>ATG</td>\n",
       "      <td>Antigua and Barbuda</td>\n",
       "      <td>Year</td>\n",
       "      <td>2019</td>\n",
       "      <td>...</td>\n",
       "      <td>NaN</td>\n",
       "      <td>NaN</td>\n",
       "      <td>NaN</td>\n",
       "      <td>NaN</td>\n",
       "      <td>NaN</td>\n",
       "      <td>0.0</td>\n",
       "      <td>NaN</td>\n",
       "      <td>NaN</td>\n",
       "      <td>EN</td>\n",
       "      <td>2021-07-06T04:00:00.000Z</td>\n",
       "    </tr>\n",
       "    <tr>\n",
       "      <th>4</th>\n",
       "      <td>SDGSUICIDE</td>\n",
       "      <td>Crude suicide rates (per 100 000 population)</td>\n",
       "      <td>text</td>\n",
       "      <td>AMR</td>\n",
       "      <td>Americas</td>\n",
       "      <td>Country</td>\n",
       "      <td>ATG</td>\n",
       "      <td>Antigua and Barbuda</td>\n",
       "      <td>Year</td>\n",
       "      <td>2019</td>\n",
       "      <td>...</td>\n",
       "      <td>NaN</td>\n",
       "      <td>NaN</td>\n",
       "      <td>NaN</td>\n",
       "      <td>NaN</td>\n",
       "      <td>NaN</td>\n",
       "      <td>0.0</td>\n",
       "      <td>NaN</td>\n",
       "      <td>NaN</td>\n",
       "      <td>EN</td>\n",
       "      <td>2021-07-06T04:00:00.000Z</td>\n",
       "    </tr>\n",
       "  </tbody>\n",
       "</table>\n",
       "<p>5 rows × 34 columns</p>\n",
       "</div>"
      ],
      "text/plain": [
       "  IndicatorCode                                     Indicator ValueType  \\\n",
       "0    SDGSUICIDE  Crude suicide rates (per 100 000 population)      text   \n",
       "1    SDGSUICIDE  Crude suicide rates (per 100 000 population)      text   \n",
       "2    SDGSUICIDE  Crude suicide rates (per 100 000 population)      text   \n",
       "3    SDGSUICIDE  Crude suicide rates (per 100 000 population)      text   \n",
       "4    SDGSUICIDE  Crude suicide rates (per 100 000 population)      text   \n",
       "\n",
       "  ParentLocationCode ParentLocation Location type SpatialDimValueCode  \\\n",
       "0                AMR       Americas       Country                 ATG   \n",
       "1                AMR       Americas       Country                 ATG   \n",
       "2                AMR       Americas       Country                 ATG   \n",
       "3                AMR       Americas       Country                 ATG   \n",
       "4                AMR       Americas       Country                 ATG   \n",
       "\n",
       "              Location Period type  Period  ...  FactValueUoM  \\\n",
       "0  Antigua and Barbuda        Year    2019  ...           NaN   \n",
       "1  Antigua and Barbuda        Year    2019  ...           NaN   \n",
       "2  Antigua and Barbuda        Year    2019  ...           NaN   \n",
       "3  Antigua and Barbuda        Year    2019  ...           NaN   \n",
       "4  Antigua and Barbuda        Year    2019  ...           NaN   \n",
       "\n",
       "  FactValueNumericLowPrefix FactValueNumericLow FactValueNumericHighPrefix  \\\n",
       "0                       NaN                 NaN                        NaN   \n",
       "1                       NaN                 NaN                        NaN   \n",
       "2                       NaN                 NaN                        NaN   \n",
       "3                       NaN                 NaN                        NaN   \n",
       "4                       NaN                 NaN                        NaN   \n",
       "\n",
       "  FactValueNumericHigh Value FactValueTranslationID  FactComments  Language  \\\n",
       "0                  NaN   0.0                    NaN           NaN        EN   \n",
       "1                  NaN   0.0                    NaN           NaN        EN   \n",
       "2                  NaN   0.0                    NaN           NaN        EN   \n",
       "3                  NaN   0.0                    NaN           NaN        EN   \n",
       "4                  NaN   0.0                    NaN           NaN        EN   \n",
       "\n",
       "               DateModified  \n",
       "0  2021-07-06T04:00:00.000Z  \n",
       "1  2021-07-06T04:00:00.000Z  \n",
       "2  2021-07-06T04:00:00.000Z  \n",
       "3  2021-07-06T04:00:00.000Z  \n",
       "4  2021-07-06T04:00:00.000Z  \n",
       "\n",
       "[5 rows x 34 columns]"
      ]
     },
     "execution_count": 2,
     "metadata": {},
     "output_type": "execute_result"
    }
   ],
   "source": [
    "# Import Dataset\n",
    "suicide_data = pd.read_csv(r\"C:\\Users\\Lyz\\Documents\\Python\\Portfolio\\Suicide Data\\who_crude_suicide_data.csv\")\n",
    "suicide_data.head()"
   ]
  },
  {
   "cell_type": "code",
   "execution_count": 3,
   "id": "bde26f67",
   "metadata": {},
   "outputs": [
    {
     "name": "stdout",
     "output_type": "stream",
     "text": [
      "<class 'pandas.core.frame.DataFrame'>\n",
      "RangeIndex: 4392 entries, 0 to 4391\n",
      "Data columns (total 34 columns):\n",
      " #   Column                      Non-Null Count  Dtype  \n",
      "---  ------                      --------------  -----  \n",
      " 0   IndicatorCode               4392 non-null   object \n",
      " 1   Indicator                   4392 non-null   object \n",
      " 2   ValueType                   4392 non-null   object \n",
      " 3   ParentLocationCode          4392 non-null   object \n",
      " 4   ParentLocation              4392 non-null   object \n",
      " 5   Location type               4392 non-null   object \n",
      " 6   SpatialDimValueCode         4392 non-null   object \n",
      " 7   Location                    4392 non-null   object \n",
      " 8   Period type                 4392 non-null   object \n",
      " 9   Period                      4392 non-null   int64  \n",
      " 10  IsLatestYear                4392 non-null   bool   \n",
      " 11  Dim1 type                   4392 non-null   object \n",
      " 12  Dim1                        4392 non-null   object \n",
      " 13  Dim1ValueCode               4392 non-null   object \n",
      " 14  Dim2 type                   4392 non-null   object \n",
      " 15  Dim2                        4392 non-null   object \n",
      " 16  Dim2ValueCode               4392 non-null   object \n",
      " 17  Dim3 type                   0 non-null      float64\n",
      " 18  Dim3                        0 non-null      float64\n",
      " 19  Dim3ValueCode               0 non-null      float64\n",
      " 20  DataSourceDimValueCode      0 non-null      float64\n",
      " 21  DataSource                  0 non-null      float64\n",
      " 22  FactValueNumericPrefix      0 non-null      float64\n",
      " 23  FactValueNumeric            4392 non-null   float64\n",
      " 24  FactValueUoM                0 non-null      float64\n",
      " 25  FactValueNumericLowPrefix   0 non-null      float64\n",
      " 26  FactValueNumericLow         0 non-null      float64\n",
      " 27  FactValueNumericHighPrefix  0 non-null      float64\n",
      " 28  FactValueNumericHigh        0 non-null      float64\n",
      " 29  Value                       4392 non-null   float64\n",
      " 30  FactValueTranslationID      0 non-null      float64\n",
      " 31  FactComments                0 non-null      float64\n",
      " 32  Language                    4392 non-null   object \n",
      " 33  DateModified                4392 non-null   object \n",
      "dtypes: bool(1), float64(15), int64(1), object(17)\n",
      "memory usage: 1.1+ MB\n"
     ]
    }
   ],
   "source": [
    "# Look at all variables in the datset\n",
    "suicide_data.info()"
   ]
  },
  {
   "cell_type": "code",
   "execution_count": 4,
   "id": "0fa86ccd",
   "metadata": {},
   "outputs": [],
   "source": [
    "# Rename the columns that are needed\n",
    "suicide_data_new = suicide_data.rename(columns = {\"ParentLocation\": \"Region\", \"Location\": \"Country\", \"Period\": \"Year\", \"Dim1\": \"Sex\", \"Dim2\": \"Age Range\", \"Value\": \"Suicide Rate (per 100,000 population)\"})\n",
    "# There are certain columns that are not needed, I can drop these and rename the ones that are needed\n",
    "suicide_data_new = suicide_data_new.drop([\"IndicatorCode\", \"Indicator\", \"ValueType\", \"ParentLocationCode\", \"Location type\", \"SpatialDimValueCode\", \n",
    "                   \"Period type\", \"IsLatestYear\", \"Dim1 type\", \"Dim1ValueCode\", \"Dim2 type\", \"Dim2ValueCode\",\n",
    "                   \"Dim3 type\", \"Dim3\", \"Dim3ValueCode\", \"DataSourceDimValueCode\", \"DataSource\", \"FactValueNumericPrefix\",\n",
    "                   \"FactValueNumeric\", \"FactValueUoM\", \"FactValueNumericLowPrefix\", \"FactValueNumericLow\", \n",
    "                   \"FactValueNumericHighPrefix\", \"FactValueNumericHigh\", \"FactValueTranslationID\", \"FactComments\",\n",
    "                   \"Language\"], axis = 1)"
   ]
  },
  {
   "cell_type": "code",
   "execution_count": 5,
   "id": "2c4f011a",
   "metadata": {},
   "outputs": [
    {
     "name": "stdout",
     "output_type": "stream",
     "text": [
      "<class 'pandas.core.frame.DataFrame'>\n",
      "RangeIndex: 4392 entries, 0 to 4391\n",
      "Data columns (total 7 columns):\n",
      " #   Column                                 Non-Null Count  Dtype  \n",
      "---  ------                                 --------------  -----  \n",
      " 0   Region                                 4392 non-null   object \n",
      " 1   Country                                4392 non-null   object \n",
      " 2   Year                                   4392 non-null   int64  \n",
      " 3   Sex                                    4392 non-null   object \n",
      " 4   Age Range                              4392 non-null   object \n",
      " 5   Suicide Rate (per 100,000 population)  4392 non-null   float64\n",
      " 6   DateModified                           4392 non-null   object \n",
      "dtypes: float64(1), int64(1), object(5)\n",
      "memory usage: 240.3+ KB\n"
     ]
    },
    {
     "data": {
      "text/html": [
       "<div>\n",
       "<style scoped>\n",
       "    .dataframe tbody tr th:only-of-type {\n",
       "        vertical-align: middle;\n",
       "    }\n",
       "\n",
       "    .dataframe tbody tr th {\n",
       "        vertical-align: top;\n",
       "    }\n",
       "\n",
       "    .dataframe thead th {\n",
       "        text-align: right;\n",
       "    }\n",
       "</style>\n",
       "<table border=\"1\" class=\"dataframe\">\n",
       "  <thead>\n",
       "    <tr style=\"text-align: right;\">\n",
       "      <th></th>\n",
       "      <th>Region</th>\n",
       "      <th>Country</th>\n",
       "      <th>Year</th>\n",
       "      <th>Sex</th>\n",
       "      <th>Age Range</th>\n",
       "      <th>Suicide Rate (per 100,000 population)</th>\n",
       "      <th>DateModified</th>\n",
       "    </tr>\n",
       "  </thead>\n",
       "  <tbody>\n",
       "    <tr>\n",
       "      <th>0</th>\n",
       "      <td>Americas</td>\n",
       "      <td>Antigua and Barbuda</td>\n",
       "      <td>2019</td>\n",
       "      <td>Both sexes</td>\n",
       "      <td>15-24 years</td>\n",
       "      <td>0.0</td>\n",
       "      <td>2021-07-06T04:00:00.000Z</td>\n",
       "    </tr>\n",
       "    <tr>\n",
       "      <th>1</th>\n",
       "      <td>Americas</td>\n",
       "      <td>Antigua and Barbuda</td>\n",
       "      <td>2019</td>\n",
       "      <td>Both sexes</td>\n",
       "      <td>25-34 years of age</td>\n",
       "      <td>0.0</td>\n",
       "      <td>2021-07-06T04:00:00.000Z</td>\n",
       "    </tr>\n",
       "    <tr>\n",
       "      <th>2</th>\n",
       "      <td>Americas</td>\n",
       "      <td>Antigua and Barbuda</td>\n",
       "      <td>2019</td>\n",
       "      <td>Both sexes</td>\n",
       "      <td>35-44 years of age</td>\n",
       "      <td>0.0</td>\n",
       "      <td>2021-07-06T04:00:00.000Z</td>\n",
       "    </tr>\n",
       "    <tr>\n",
       "      <th>3</th>\n",
       "      <td>Americas</td>\n",
       "      <td>Antigua and Barbuda</td>\n",
       "      <td>2019</td>\n",
       "      <td>Both sexes</td>\n",
       "      <td>45-54 years</td>\n",
       "      <td>0.0</td>\n",
       "      <td>2021-07-06T04:00:00.000Z</td>\n",
       "    </tr>\n",
       "    <tr>\n",
       "      <th>4</th>\n",
       "      <td>Americas</td>\n",
       "      <td>Antigua and Barbuda</td>\n",
       "      <td>2019</td>\n",
       "      <td>Both sexes</td>\n",
       "      <td>65-74 years</td>\n",
       "      <td>0.0</td>\n",
       "      <td>2021-07-06T04:00:00.000Z</td>\n",
       "    </tr>\n",
       "  </tbody>\n",
       "</table>\n",
       "</div>"
      ],
      "text/plain": [
       "     Region              Country  Year         Sex           Age Range  \\\n",
       "0  Americas  Antigua and Barbuda  2019  Both sexes         15-24 years   \n",
       "1  Americas  Antigua and Barbuda  2019  Both sexes  25-34 years of age   \n",
       "2  Americas  Antigua and Barbuda  2019  Both sexes  35-44 years of age   \n",
       "3  Americas  Antigua and Barbuda  2019  Both sexes         45-54 years   \n",
       "4  Americas  Antigua and Barbuda  2019  Both sexes         65-74 years   \n",
       "\n",
       "   Suicide Rate (per 100,000 population)              DateModified  \n",
       "0                                    0.0  2021-07-06T04:00:00.000Z  \n",
       "1                                    0.0  2021-07-06T04:00:00.000Z  \n",
       "2                                    0.0  2021-07-06T04:00:00.000Z  \n",
       "3                                    0.0  2021-07-06T04:00:00.000Z  \n",
       "4                                    0.0  2021-07-06T04:00:00.000Z  "
      ]
     },
     "execution_count": 5,
     "metadata": {},
     "output_type": "execute_result"
    }
   ],
   "source": [
    "# Check data\n",
    "suicide_data_new.info()\n",
    "suicide_data_new.head()"
   ]
  },
  {
   "cell_type": "code",
   "execution_count": 6,
   "id": "59d945e4",
   "metadata": {},
   "outputs": [
    {
     "name": "stdout",
     "output_type": "stream",
     "text": [
      "(Rows, columns): (4392, 7)\n"
     ]
    },
    {
     "data": {
      "text/plain": [
       "Index(['Region', 'Country', 'Year', 'Sex', 'Age Range',\n",
       "       'Suicide Rate (per 100,000 population)', 'DateModified'],\n",
       "      dtype='object')"
      ]
     },
     "execution_count": 6,
     "metadata": {},
     "output_type": "execute_result"
    }
   ],
   "source": [
    "# Look at shape of data\n",
    "print(\"(Rows, columns): \" + str(suicide_data_new.shape))\n",
    "suicide_data_new.columns"
   ]
  },
  {
   "cell_type": "code",
   "execution_count": 7,
   "id": "6e3529e0",
   "metadata": {},
   "outputs": [
    {
     "data": {
      "text/plain": [
       "Region                                   0\n",
       "Country                                  0\n",
       "Year                                     0\n",
       "Sex                                      0\n",
       "Age Range                                0\n",
       "Suicide Rate (per 100,000 population)    0\n",
       "DateModified                             0\n",
       "dtype: int64"
      ]
     },
     "execution_count": 7,
     "metadata": {},
     "output_type": "execute_result"
    }
   ],
   "source": [
    "# Check for missing data\n",
    "suicide_data_new.isna().sum()\n",
    "# We can see that there is no missing data"
   ]
  },
  {
   "cell_type": "markdown",
   "id": "17ddb84d",
   "metadata": {},
   "source": [
    "# Exploratory Data Analysis"
   ]
  },
  {
   "cell_type": "markdown",
   "id": "798bd5d3",
   "metadata": {},
   "source": [
    "## Main Objective: Look at the country that has the the most suicidal rate and has the least"
   ]
  },
  {
   "cell_type": "code",
   "execution_count": 8,
   "id": "10532abe",
   "metadata": {},
   "outputs": [
    {
     "name": "stdout",
     "output_type": "stream",
     "text": [
      "Country Which Has Highest Suicide Rate (per 100,000 population) :  Mozambique\n",
      "Country Which Has Lowest Suicide Rate (per 100,000 population)  :  Antigua and Barbuda\n"
     ]
    },
    {
     "data": {
      "text/html": [
       "<div>\n",
       "<style scoped>\n",
       "    .dataframe tbody tr th:only-of-type {\n",
       "        vertical-align: middle;\n",
       "    }\n",
       "\n",
       "    .dataframe tbody tr th {\n",
       "        vertical-align: top;\n",
       "    }\n",
       "\n",
       "    .dataframe thead th {\n",
       "        text-align: right;\n",
       "    }\n",
       "</style>\n",
       "<table border=\"1\" class=\"dataframe\">\n",
       "  <thead>\n",
       "    <tr style=\"text-align: right;\">\n",
       "      <th></th>\n",
       "      <th>0</th>\n",
       "      <th>3716</th>\n",
       "    </tr>\n",
       "  </thead>\n",
       "  <tbody>\n",
       "    <tr>\n",
       "      <th>Region</th>\n",
       "      <td>Americas</td>\n",
       "      <td>Africa</td>\n",
       "    </tr>\n",
       "    <tr>\n",
       "      <th>Country</th>\n",
       "      <td>Antigua and Barbuda</td>\n",
       "      <td>Mozambique</td>\n",
       "    </tr>\n",
       "    <tr>\n",
       "      <th>Year</th>\n",
       "      <td>2019</td>\n",
       "      <td>2019</td>\n",
       "    </tr>\n",
       "    <tr>\n",
       "      <th>Sex</th>\n",
       "      <td>Both sexes</td>\n",
       "      <td>Male</td>\n",
       "    </tr>\n",
       "    <tr>\n",
       "      <th>Age Range</th>\n",
       "      <td>15-24 years</td>\n",
       "      <td>85+ years</td>\n",
       "    </tr>\n",
       "    <tr>\n",
       "      <th>Suicide Rate (per 100,000 population)</th>\n",
       "      <td>0.0</td>\n",
       "      <td>646.0</td>\n",
       "    </tr>\n",
       "    <tr>\n",
       "      <th>DateModified</th>\n",
       "      <td>2021-07-06T04:00:00.000Z</td>\n",
       "      <td>2021-07-06T04:00:00.000Z</td>\n",
       "    </tr>\n",
       "  </tbody>\n",
       "</table>\n",
       "</div>"
      ],
      "text/plain": [
       "                                                           0     \\\n",
       "Region                                                 Americas   \n",
       "Country                                     Antigua and Barbuda   \n",
       "Year                                                       2019   \n",
       "Sex                                                  Both sexes   \n",
       "Age Range                                           15-24 years   \n",
       "Suicide Rate (per 100,000 population)                       0.0   \n",
       "DateModified                           2021-07-06T04:00:00.000Z   \n",
       "\n",
       "                                                           3716  \n",
       "Region                                                   Africa  \n",
       "Country                                              Mozambique  \n",
       "Year                                                       2019  \n",
       "Sex                                                        Male  \n",
       "Age Range                                             85+ years  \n",
       "Suicide Rate (per 100,000 population)                     646.0  \n",
       "DateModified                           2021-07-06T04:00:00.000Z  "
      ]
     },
     "execution_count": 8,
     "metadata": {},
     "output_type": "execute_result"
    }
   ],
   "source": [
    "def find_minmax(x):\n",
    "    #use the function 'idmin' to find the index of lowest suicide\n",
    "    min_index = suicide_data_new[x].idxmin()\n",
    "    #use the function 'idmax' to find the index of Highest suicide\n",
    "    high_index = suicide_data_new[x].idxmax()\n",
    "    \n",
    "    high = pd.DataFrame(suicide_data_new.loc[high_index,:])\n",
    "    low = pd.DataFrame(suicide_data_new.loc[min_index,:])\n",
    "    \n",
    "    #print the country with high and low suicide\n",
    "    print(\"Country Which Has Highest \"+ x + \" : \",suicide_data_new['Country'][high_index])\n",
    "    print(\"Country Which Has Lowest \"+ x + \"  : \",suicide_data_new['Country'][min_index])\n",
    "    return pd.concat([low,high],axis = 1)\n",
    "\n",
    "find_minmax(\"Suicide Rate (per 100,000 population)\")"
   ]
  },
  {
   "cell_type": "markdown",
   "id": "f27a14a1",
   "metadata": {},
   "source": [
    "## Question 2: Which age groups have higher suicidal rates"
   ]
  },
  {
   "cell_type": "code",
   "execution_count": 9,
   "id": "4dbd5f57",
   "metadata": {},
   "outputs": [
    {
     "data": {
      "text/plain": [
       "0     15\n",
       "1     25\n",
       "2     35\n",
       "3     45\n",
       "4     65\n",
       "5     75\n",
       "6     85\n",
       "7     15\n",
       "8     25\n",
       "9     35\n",
       "10    45\n",
       "11    65\n",
       "12    75\n",
       "13    85\n",
       "14    15\n",
       "Name: Age, dtype: int32"
      ]
     },
     "execution_count": 9,
     "metadata": {},
     "output_type": "execute_result"
    }
   ],
   "source": [
    "# Create age categories by separating hypenated ages\n",
    "\n",
    "# Grab first 2 characters from age \n",
    "suicide_data_new[\"Age\"] = suicide_data_new[\"Age Range\"].str[:2]\n",
    "# Remove all hypens\n",
    "suicide_data_new[\"Age\"] = suicide_data_new[\"Age\"].map(lambda x: x.replace(\"-\",\"\"))\n",
    "# Convert ages into integer\n",
    "suicide_data_new[\"Age\"] = suicide_data_new[\"Age\"].astype(int)\n",
    "\n",
    "suicide_data_new[\"Age\"].head(15)"
   ]
  },
  {
   "cell_type": "code",
   "execution_count": 10,
   "id": "bb2c3109",
   "metadata": {},
   "outputs": [
    {
     "data": {
      "text/plain": [
       "0            Adolescent\n",
       "1                Adults\n",
       "2    Middle Aged Adults\n",
       "3    Middle Aged Adults\n",
       "4               Elderly\n",
       "Name: AgeCat, dtype: object"
      ]
     },
     "execution_count": 10,
     "metadata": {},
     "output_type": "execute_result"
    }
   ],
   "source": [
    "# Create age categories\n",
    "\n",
    "def AgeGroup(x):\n",
    "    if(x >= 60):\n",
    "        return \"Elderly\"\n",
    "    elif(x >= 30):\n",
    "        return \"Middle Aged Adults\"\n",
    "    elif(x >= 18):\n",
    "        return \"Adults\"\n",
    "    else:\n",
    "        return \"Adolescent\"\n",
    "# Map each row in the column to the AgeGroup Methpd\n",
    "suicide_data_new[\"AgeCat\"] = suicide_data_new[\"Age\"].map(lambda x: AgeGroup(x))\n",
    "# Convert it back to a string\n",
    "suicide_data_new[\"AgeCat\"] = suicide_data_new[\"AgeCat\"].astype(str)\n",
    "\n",
    "suicide_data_new[\"AgeCat\"].head()"
   ]
  },
  {
   "cell_type": "code",
   "execution_count": 11,
   "id": "c925b1c7",
   "metadata": {},
   "outputs": [
    {
     "data": {
      "text/plain": [
       "Text(10.049999999999997, 0.5, 'Suicide Count')"
      ]
     },
     "execution_count": 11,
     "metadata": {},
     "output_type": "execute_result"
    },
    {
     "data": {
      "image/png": "[encoded data removed]",
      "text/plain": [
       "<Figure size 360x360 with 1 Axes>"
      ]
     },
     "metadata": {
      "needs_background": "light"
     },
     "output_type": "display_data"
    }
   ],
   "source": [
    "sns.catplot(x = \"AgeCat\", y = \"Suicide Rate (per 100,000 population)\", data = suicide_data_new,\n",
    "           palette = \"ch:.25\", kind = \"bar\")\n",
    "\n",
    "plt.title(\"Age vs. Suicide Rate\", size = 25)\n",
    "plt.xlabel(\"Age Category\", size = 20)\n",
    "plt.ylabel(\"Suicide Count\", size = 20)"
   ]
  },
  {
   "cell_type": "markdown",
   "id": "8f7d022f",
   "metadata": {},
   "source": [
    "## Objective 3: Relationship between sex and suicide rate"
   ]
  },
  {
   "cell_type": "code",
   "execution_count": 12,
   "id": "4d535fcd",
   "metadata": {},
   "outputs": [
    {
     "data": {
      "text/plain": [
       "<seaborn.axisgrid.FacetGrid at 0x1baefb12790>"
      ]
     },
     "execution_count": 12,
     "metadata": {},
     "output_type": "execute_result"
    },
    {
     "data": {
      "image/png": "[encoded data removed]",
      "text/plain": [
       "<Figure size 492.75x360 with 1 Axes>"
      ]
     },
     "metadata": {
      "needs_background": "light"
     },
     "output_type": "display_data"
    }
   ],
   "source": [
    "sns.catplot(x = \"Sex\", y = \"Suicide Rate (per 100,000 population)\", data = suicide_data_new, hue = \"AgeCat\", kind = \"bar\")"
   ]
  },
  {
   "cell_type": "markdown",
   "id": "eec0fb15",
   "metadata": {},
   "source": [
    "# Linear Regression + Predictive Analysis"
   ]
  },
  {
   "cell_type": "code",
   "execution_count": 20,
   "id": "dfbf48d7",
   "metadata": {},
   "outputs": [],
   "source": [
    "model_suicide_data = suicide_data_new.loc[:, [\"Year\", \"Sex\", \"Age\", \"Suicide Rate (per 100,000 population)\"]]\n",
    "model_suicide_data.head()\n",
    "\n",
    "x = model_suicide_data.iloc[:, :-1]. values # grab the every column except the last\n",
    "y = model_suicide_data.iloc[:, -1].values # grab the last column"
   ]
  },
  {
   "cell_type": "code",
   "execution_count": 21,
   "id": "5a324bc0",
   "metadata": {},
   "outputs": [],
   "source": [
    "from sklearn.compose import ColumnTransformer\n",
    "from sklearn.preprocessing import OneHotEncoder\n",
    "ct = ColumnTransformer(transformers = [(\"encoder\", OneHotEncoder(), [1])], remainder = \"passthrough\")\n",
    "x = np.array(ct.fit_transform(x))"
   ]
  },
  {
   "cell_type": "code",
   "execution_count": 22,
   "id": "0eaed561",
   "metadata": {},
   "outputs": [],
   "source": [
    "from sklearn.model_selection import train_test_split\n",
    "x_train, x_test, y_train, y_test = train_test_split(x,y,test_size = 0.2, random_state = 1)"
   ]
  },
  {
   "cell_type": "code",
   "execution_count": 23,
   "id": "5f006f2a",
   "metadata": {},
   "outputs": [
    {
     "data": {
      "text/plain": [
       "LinearRegression()"
      ]
     },
     "execution_count": 23,
     "metadata": {},
     "output_type": "execute_result"
    }
   ],
   "source": [
    "from sklearn.linear_model import LinearRegression\n",
    "regressor = LinearRegression()\n",
    "regressor.fit(x_train, y_train)"
   ]
  },
  {
   "cell_type": "code",
   "execution_count": 24,
   "id": "a1339b87",
   "metadata": {},
   "outputs": [
    {
     "name": "stdout",
     "output_type": "stream",
     "text": [
      "[1360.18676164]\n"
     ]
    }
   ],
   "source": [
    "# Both sexes: [1, 0, 0]\n",
    "# Female: [0, 1, 0]\n",
    "# Male: [0, 0, 1]\n",
    "\n",
    "print(regressor.predict([[0, 0, 1, 65, 2019]]))"
   ]
  },
  {
   "cell_type": "code",
   "execution_count": 25,
   "id": "8a1416dc",
   "metadata": {},
   "outputs": [
    {
     "name": "stdout",
     "output_type": "stream",
     "text": [
      "Coefficients: \n",
      " [ -1.88316952 -13.70860232  15.59177184   0.           0.6709489 ]\n"
     ]
    }
   ],
   "source": [
    "# When looking at the predicted value when looking changing the age, the value doesn't change,\n",
    "# so I will look at the coeffiencient. Age doesn't appear to have a large coefficient\n",
    "# compared to gender. Year has a coef. of 0 because 2019 is the only year\n",
    "# To look at linearity for Age, a scatterplot was made with it's subsequent correlation coefficient\n",
    "\n",
    "print('Coefficients: \\n', regressor.coef_)"
   ]
  },
  {
   "cell_type": "code",
   "execution_count": 26,
   "id": "5b227764",
   "metadata": {},
   "outputs": [
    {
     "data": {
      "image/png": "[encoded data removed]",
      "text/plain": [
       "<Figure size 432x288 with 1 Axes>"
      ]
     },
     "metadata": {
      "needs_background": "light"
     },
     "output_type": "display_data"
    },
    {
     "name": "stdout",
     "output_type": "stream",
     "text": [
      "Correlation Coefficient: 0.34902559308819364\n"
     ]
    }
   ],
   "source": [
    "from scipy.stats import pearsonr\n",
    "\n",
    "# Create a scatter plot\n",
    "sns.scatterplot(x='Age', y='Suicide Rate (per 100,000 population)', data=model_suicide_data)\n",
    "\n",
    "# Calculate correlation coefficient\n",
    "correlation_coefficient, _ = pearsonr(model_suicide_data['Age'], model_suicide_data['Suicide Rate (per 100,000 population)'])\n",
    "\n",
    "plt.title('Age vs Suicide Rate')\n",
    "plt.xlabel('Age')\n",
    "plt.ylabel('Suicide Rate (per 100,000 population)')\n",
    "plt.show()\n",
    "\n",
    "print(\"Correlation Coefficient:\", correlation_coefficient)"
   ]
  }
 ],
 "metadata": {
  "kernelspec": {
   "display_name": "Python 3 (ipykernel)",
   "language": "python",
   "name": "python3"
  },
  "language_info": {
   "codemirror_mode": {
    "name": "ipython",
    "version": 3
   },
   "file_extension": ".py",
   "mimetype": "text/x-python",
   "name": "python",
   "nbconvert_exporter": "python",
   "pygments_lexer": "ipython3",
   "version": "3.9.7"
  }
 },
 "nbformat": 4,
 "nbformat_minor": 5
}
